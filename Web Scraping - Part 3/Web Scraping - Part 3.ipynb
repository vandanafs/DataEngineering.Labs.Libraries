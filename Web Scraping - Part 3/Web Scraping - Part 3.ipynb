{
 "cells": [
  {
   "cell_type": "markdown",
   "metadata": {},
   "source": [
    "## Putting it all together\n",
    "\n",
    "In this final web scraping lab, we'll unpickle the links we found, go to each one of them, and scrape:\n",
    "\n",
    "- Title\n",
    "- Price\n",
    "- Description\n",
    "- Rating\n",
    "- Genre"
   ]
  },
  {
   "cell_type": "code",
   "execution_count": 4,
   "metadata": {},
   "outputs": [],
   "source": [
    "#import pickle, bs4.BeautifulSoup, pandas, requests\n",
    "\n",
    "import pickle\n",
    "from bs4 import BeautifulSoup\n",
    "import pandas as pd\n",
    "import requests"
   ]
  },
  {
   "cell_type": "code",
   "execution_count": 5,
   "metadata": {},
   "outputs": [
    {
     "ename": "FileNotFoundError",
     "evalue": "[Errno 2] No such file or directory: 'links.pkl'",
     "output_type": "error",
     "traceback": [
      "\u001b[0;31m---------------------------------------------------------------------------\u001b[0m",
      "\u001b[0;31mFileNotFoundError\u001b[0m                         Traceback (most recent call last)",
      "Input \u001b[0;32mIn [5]\u001b[0m, in \u001b[0;36m<cell line: 3>\u001b[0;34m()\u001b[0m\n\u001b[1;32m      1\u001b[0m \u001b[38;5;66;03m#read in the pickle file of links, from the last lab\u001b[39;00m\n\u001b[0;32m----> 3\u001b[0m \u001b[38;5;28;01mwith\u001b[39;00m \u001b[38;5;28;43mopen\u001b[39;49m\u001b[43m(\u001b[49m\u001b[38;5;124;43m'\u001b[39;49m\u001b[38;5;124;43mlinks.pkl\u001b[39;49m\u001b[38;5;124;43m'\u001b[39;49m\u001b[43m,\u001b[49m\u001b[43m \u001b[49m\u001b[38;5;124;43m'\u001b[39;49m\u001b[38;5;124;43mrb\u001b[39;49m\u001b[38;5;124;43m'\u001b[39;49m\u001b[43m)\u001b[49m \u001b[38;5;28;01mas\u001b[39;00m f:\n\u001b[1;32m      4\u001b[0m     links \u001b[38;5;241m=\u001b[39m pickle\u001b[38;5;241m.\u001b[39mload(f)\n\u001b[1;32m      6\u001b[0m links[:\u001b[38;5;241m5\u001b[39m]\n",
      "\u001b[0;31mFileNotFoundError\u001b[0m: [Errno 2] No such file or directory: 'links.pkl'"
     ]
    }
   ],
   "source": [
    "#read in the pickle file of links, from the last lab\n",
    "\n",
    "with open('links.pkl', 'rb') as f:\n",
    "    links = pickle.load(f)\n",
    "    \n",
    "links[:5]"
   ]
  },
  {
   "cell_type": "markdown",
   "metadata": {},
   "source": [
    "The links we scraped are only the last part of the page's full link. Let's reconstruct the full page link now. We'll define the base url, and then add each link from our list to the end of it."
   ]
  },
  {
   "cell_type": "code",
   "execution_count": 3,
   "metadata": {},
   "outputs": [],
   "source": [
    "#rewrite your parsing function from the last lab\n",
    "\n",
    "def parse(url):\n",
    "    page = requests.get(url)\n",
    "    soup = BeautifulSoup(page.text, 'html.parser')\n",
    "    return(soup)"
   ]
  },
  {
   "cell_type": "code",
   "execution_count": 4,
   "metadata": {},
   "outputs": [],
   "source": [
    "#define the base url\n",
    "\n",
    "base = 'http://books.toscrape.com/catalogue/'"
   ]
  },
  {
   "cell_type": "code",
   "execution_count": 5,
   "metadata": {},
   "outputs": [
    {
     "data": {
      "text/plain": [
       "\n",
       "<!DOCTYPE html>\n",
       "\n",
       "<!--[if lt IE 7]>      <html lang=\"en-us\" class=\"no-js lt-ie9 lt-ie8 lt-ie7\"> <![endif]-->\n",
       "<!--[if IE 7]>         <html lang=\"en-us\" class=\"no-js lt-ie9 lt-ie8\"> <![endif]-->\n",
       "<!--[if IE 8]>         <html lang=\"en-us\" class=\"no-js lt-ie9\"> <![endif]-->\n",
       "<!--[if gt IE 8]><!--> <html class=\"no-js\" lang=\"en-us\"> <!--<![endif]-->\n",
       "<head>\n",
       "<title>\n",
       "    A Light in the Attic | Books to Scrape - Sandbox\n",
       "</title>\n",
       "<meta content=\"text/html; charset=utf-8\" http-equiv=\"content-type\"/>\n",
       "<meta content=\"24th Jun 2016 09:29\" name=\"created\"/>\n",
       "<meta content=\"\n",
       "    It's hard to imagine a world without A Light in the Attic. This now-classic collection of poetry and drawings from Shel Silverstein celebrates its 20th anniversary with this special edition. Silverstein's humorous and creative verse can amuse the dowdiest of readers. Lemon-faced adults and fidgety kids sit still and read these rhythmic words and laugh and smile and love th It's hard to imagine a world without A Light in the Attic. This now-classic collection of poetry and drawings from Shel Silverstein celebrates its 20th anniversary with this special edition. Silverstein's humorous and creative verse can amuse the dowdiest of readers. Lemon-faced adults and fidgety kids sit still and read these rhythmic words and laugh and smile and love that Silverstein. Need proof of his genius? RockabyeRockabye baby, in the treetopDon't you know a treetopIs no safe place to rock?And who put you up there,And your cradle, too?Baby, I think someone down here'sGot it in for you. Shel, you never sounded so good. ...more\n",
       "\" name=\"description\"/>\n",
       "<meta content=\"width=device-width\" name=\"viewport\"/>\n",
       "<meta content=\"NOARCHIVE,NOCACHE\" name=\"robots\"/>\n",
       "<!-- Le HTML5 shim, for IE6-8 support of HTML elements -->\n",
       "<!--[if lt IE 9]>\n",
       "        <script src=\"//html5shim.googlecode.com/svn/trunk/html5.js\"></script>\n",
       "        <![endif]-->\n",
       "<link href=\"../../static/oscar/favicon.ico\" rel=\"shortcut icon\"/>\n",
       "<link href=\"../../static/oscar/css/styles.css\" rel=\"stylesheet\" type=\"text/css\"/>\n",
       "<link href=\"../../static/oscar/js/bootstrap-datetimepicker/bootstrap-datetimepicker.css\" rel=\"stylesheet\"/>\n",
       "<link href=\"../../static/oscar/css/datetimepicker.css\" rel=\"stylesheet\" type=\"text/css\"/>\n",
       "</head>\n",
       "<body class=\"default\" id=\"default\">\n",
       "<header class=\"header container-fluid\">\n",
       "<div class=\"page_inner\">\n",
       "<div class=\"row\">\n",
       "<div class=\"col-sm-8 h1\"><a href=\"../../index.html\">Books to Scrape</a><small> We love being scraped!</small>\n",
       "</div>\n",
       "</div>\n",
       "</div>\n",
       "</header>\n",
       "<div class=\"container-fluid page\">\n",
       "<div class=\"page_inner\">\n",
       "<ul class=\"breadcrumb\">\n",
       "<li>\n",
       "<a href=\"../../index.html\">Home</a>\n",
       "</li>\n",
       "<li>\n",
       "<a href=\"../category/books_1/index.html\">Books</a>\n",
       "</li>\n",
       "<li>\n",
       "<a href=\"../category/books/poetry_23/index.html\">Poetry</a>\n",
       "</li>\n",
       "<li class=\"active\">A Light in the Attic</li>\n",
       "</ul>\n",
       "<div id=\"messages\">\n",
       "</div>\n",
       "<div class=\"content\">\n",
       "<div id=\"promotions\">\n",
       "</div>\n",
       "<div id=\"content_inner\">\n",
       "<article class=\"product_page\"><!-- Start of product page -->\n",
       "<div class=\"row\">\n",
       "<div class=\"col-sm-6\">\n",
       "<div class=\"carousel\" id=\"product_gallery\">\n",
       "<div class=\"thumbnail\">\n",
       "<div class=\"carousel-inner\">\n",
       "<div class=\"item active\">\n",
       "<img alt=\"A Light in the Attic\" src=\"../../media/cache/fe/72/fe72f0532301ec28892ae79a629a293c.jpg\"/>\n",
       "</div>\n",
       "</div>\n",
       "</div>\n",
       "</div>\n",
       "</div>\n",
       "<div class=\"col-sm-6 product_main\">\n",
       "<h1>A Light in the Attic</h1>\n",
       "<p class=\"price_color\">Â£51.77</p>\n",
       "<p class=\"instock availability\">\n",
       "<i class=\"icon-ok\"></i>\n",
       "    \n",
       "        In stock (22 available)\n",
       "    \n",
       "</p>\n",
       "<p class=\"star-rating Three\">\n",
       "<i class=\"icon-star\"></i>\n",
       "<i class=\"icon-star\"></i>\n",
       "<i class=\"icon-star\"></i>\n",
       "<i class=\"icon-star\"></i>\n",
       "<i class=\"icon-star\"></i>\n",
       "<!-- <small><a href=\"/catalogue/a-light-in-the-attic_1000/reviews/\">\n",
       "        \n",
       "                \n",
       "                    0 customer reviews\n",
       "                \n",
       "        </a></small>\n",
       "         --> \n",
       "\n",
       "\n",
       "<!-- \n",
       "    <a id=\"write_review\" href=\"/catalogue/a-light-in-the-attic_1000/reviews/add/#addreview\" class=\"btn btn-success btn-sm\">\n",
       "        Write a review\n",
       "    </a>\n",
       "\n",
       " --></p>\n",
       "<hr/>\n",
       "<div class=\"alert alert-warning\" role=\"alert\"><strong>Warning!</strong> This is a demo website for web scraping purposes. Prices and ratings here were randomly assigned and have no real meaning.</div>\n",
       "</div><!-- /col-sm-6 -->\n",
       "</div><!-- /row -->\n",
       "<div class=\"sub-header\" id=\"product_description\">\n",
       "<h2>Product Description</h2>\n",
       "</div>\n",
       "<p>It's hard to imagine a world without A Light in the Attic. This now-classic collection of poetry and drawings from Shel Silverstein celebrates its 20th anniversary with this special edition. Silverstein's humorous and creative verse can amuse the dowdiest of readers. Lemon-faced adults and fidgety kids sit still and read these rhythmic words and laugh and smile and love th It's hard to imagine a world without A Light in the Attic. This now-classic collection of poetry and drawings from Shel Silverstein celebrates its 20th anniversary with this special edition. Silverstein's humorous and creative verse can amuse the dowdiest of readers. Lemon-faced adults and fidgety kids sit still and read these rhythmic words and laugh and smile and love that Silverstein. Need proof of his genius? RockabyeRockabye baby, in the treetopDon't you know a treetopIs no safe place to rock?And who put you up there,And your cradle, too?Baby, I think someone down here'sGot it in for you. Shel, you never sounded so good. ...more</p>\n",
       "<div class=\"sub-header\">\n",
       "<h2>Product Information</h2>\n",
       "</div>\n",
       "<table class=\"table table-striped\">\n",
       "<tr>\n",
       "<th>UPC</th><td>a897fe39b1053632</td>\n",
       "</tr>\n",
       "<tr>\n",
       "<th>Product Type</th><td>Books</td>\n",
       "</tr>\n",
       "<tr>\n",
       "<th>Price (excl. tax)</th><td>Â£51.77</td>\n",
       "</tr>\n",
       "<tr>\n",
       "<th>Price (incl. tax)</th><td>Â£51.77</td>\n",
       "</tr>\n",
       "<tr>\n",
       "<th>Tax</th><td>Â£0.00</td>\n",
       "</tr>\n",
       "<tr>\n",
       "<th>Availability</th>\n",
       "<td>In stock (22 available)</td>\n",
       "</tr>\n",
       "<tr>\n",
       "<th>Number of reviews</th>\n",
       "<td>0</td>\n",
       "</tr>\n",
       "</table>\n",
       "<section>\n",
       "<div class=\"sub-header\" id=\"reviews\">\n",
       "</div>\n",
       "</section>\n",
       "</article><!-- End of product page -->\n",
       "</div>\n",
       "</div>\n",
       "</div>\n",
       "</div>\n",
       "<footer class=\"footer container-fluid\">\n",
       "</footer>\n",
       "<!-- jQuery -->\n",
       "<script src=\"http://ajax.googleapis.com/ajax/libs/jquery/1.9.1/jquery.min.js\"></script>\n",
       "<script>window.jQuery || document.write('<script src=\"../../static/oscar/js/jquery/jquery-1.9.1.min.js\"><\\/script>')</script>\n",
       "<!-- Twitter Bootstrap -->\n",
       "<script src=\"../../static/oscar/js/bootstrap3/bootstrap.min.js\" type=\"text/javascript\"></script>\n",
       "<!-- Oscar -->\n",
       "<script charset=\"utf-8\" src=\"../../static/oscar/js/oscar/ui.js\" type=\"text/javascript\"></script>\n",
       "<script charset=\"utf-8\" src=\"../../static/oscar/js/bootstrap-datetimepicker/bootstrap-datetimepicker.js\" type=\"text/javascript\"></script>\n",
       "<script charset=\"utf-8\" src=\"../../static/oscar/js/bootstrap-datetimepicker/locales/bootstrap-datetimepicker.all.js\" type=\"text/javascript\"></script>\n",
       "<script type=\"text/javascript\">\n",
       "            $(function() {\n",
       "                \n",
       "    \n",
       "    oscar.init();\n",
       "\n",
       "            });\n",
       "        </script>\n",
       "<!-- Version: N/A -->\n",
       "</body>\n",
       "</html>"
      ]
     },
     "execution_count": 5,
     "metadata": {},
     "output_type": "execute_result"
    }
   ],
   "source": [
    "#read in the first link in the list as a bs4 object, using your parse function\n",
    "\n",
    "parse(base+links[0])"
   ]
  },
  {
   "cell_type": "code",
   "execution_count": 6,
   "metadata": {},
   "outputs": [
    {
     "data": {
      "text/plain": [
       "'A Light in the Attic'"
      ]
     },
     "execution_count": 6,
     "metadata": {},
     "output_type": "execute_result"
    }
   ],
   "source": [
    "#inspect the page and pull in the title\n",
    "\n",
    "title = parse(base + links[0]).find_all('h1')[0].text\n",
    "title"
   ]
  },
  {
   "cell_type": "code",
   "execution_count": 7,
   "metadata": {},
   "outputs": [
    {
     "data": {
      "text/plain": [
       "'Â£51.77'"
      ]
     },
     "execution_count": 7,
     "metadata": {},
     "output_type": "execute_result"
    }
   ],
   "source": [
    "#inspect the page and pull in the price\n",
    "\n",
    "price = parse(base + links[0]).find(class_ ='price_color').text\n",
    "price"
   ]
  },
  {
   "cell_type": "code",
   "execution_count": 8,
   "metadata": {},
   "outputs": [
    {
     "data": {
      "text/plain": [
       "\"It's hard to imagine a world without A Light in the Attic. This now-classic collection of poetry and drawings from Shel Silverstein celebrates its 20th anniversary with this special edition. Silverstein's humorous and creative verse can amuse the dowdiest of readers. Lemon-faced adults and fidgety kids sit still and read these rhythmic words and laugh and smile and love th It's hard to imagine a world without A Light in the Attic. This now-classic collection of poetry and drawings from Shel Silverstein celebrates its 20th anniversary with this special edition. Silverstein's humorous and creative verse can amuse the dowdiest of readers. Lemon-faced adults and fidgety kids sit still and read these rhythmic words and laugh and smile and love that Silverstein. Need proof of his genius? RockabyeRockabye baby, in the treetopDon't you know a treetopIs no safe place to rock?And who put you up there,And your cradle, too?Baby, I think someone down here'sGot it in for you. Shel, you never sounded so good. ...more\""
      ]
     },
     "execution_count": 8,
     "metadata": {},
     "output_type": "execute_result"
    }
   ],
   "source": [
    "#inspect the page and pull in the description\n",
    "\n",
    "description = parse(base + links[0]).find_all('p')[3].text\n",
    "description"
   ]
  },
  {
   "cell_type": "code",
   "execution_count": 9,
   "metadata": {},
   "outputs": [
    {
     "data": {
      "text/plain": [
       "'Three'"
      ]
     },
     "execution_count": 9,
     "metadata": {},
     "output_type": "execute_result"
    }
   ],
   "source": [
    "#inspect the page and pull in the rating\n",
    "\n",
    "rating = parse(base + links[0]).find_all(class_ = 'star-rating')[0]['class'][1]\n",
    "rating"
   ]
  },
  {
   "cell_type": "code",
   "execution_count": 10,
   "metadata": {},
   "outputs": [
    {
     "data": {
      "text/plain": [
       "'Poetry'"
      ]
     },
     "execution_count": 10,
     "metadata": {},
     "output_type": "execute_result"
    }
   ],
   "source": [
    "#inspect the page and pull in the genre\n",
    "\n",
    "genre = parse(base + links[0]).find_all(class_ ='breadcrumb')[0].find_all('a')[2].text\n",
    "genre"
   ]
  },
  {
   "cell_type": "code",
   "execution_count": 11,
   "metadata": {},
   "outputs": [
    {
     "name": "stdout",
     "output_type": "stream",
     "text": [
      "Scraped 1000 pages.\n"
     ]
    }
   ],
   "source": [
    "#loop through every link and save each feature into a dataframe, along with the link for the respective page\n",
    "\n",
    "scraped_data = []\n",
    "\n",
    "for i in range(0, len(links)):\n",
    "    soup = parse(base + links[i])\n",
    "    title = soup.find_all('h1')[0].text\n",
    "    price = soup.find(class_ ='price_color').text\n",
    "    description = soup.find_all('p')[3].text\n",
    "    rating = soup.find_all(class_ = 'star-rating')[0]['class'][1]\n",
    "    genre = soup.find_all(class_ ='breadcrumb')[0].find_all('a')[2].text\n",
    "    link = links[i]\n",
    "\n",
    "    row = {\n",
    "        'Title' : title,\n",
    "        'Price' : price,\n",
    "        'Description' : description,\n",
    "        'Rating' : rating,\n",
    "        'Link' : link,\n",
    "        'Genre' : genre,\n",
    "    }\n",
    "    scraped_data.append(row)\n",
    "\n",
    "my_df = pd.DataFrame(scraped_data)\n",
    "print('Scraped {} pages.'.format(len(my_df)))"
   ]
  },
  {
   "cell_type": "code",
   "execution_count": 12,
   "metadata": {},
   "outputs": [
    {
     "data": {
      "text/html": [
       "<div>\n",
       "<style scoped>\n",
       "    .dataframe tbody tr th:only-of-type {\n",
       "        vertical-align: middle;\n",
       "    }\n",
       "\n",
       "    .dataframe tbody tr th {\n",
       "        vertical-align: top;\n",
       "    }\n",
       "\n",
       "    .dataframe thead th {\n",
       "        text-align: right;\n",
       "    }\n",
       "</style>\n",
       "<table border=\"1\" class=\"dataframe\">\n",
       "  <thead>\n",
       "    <tr style=\"text-align: right;\">\n",
       "      <th></th>\n",
       "      <th>Title</th>\n",
       "      <th>Price</th>\n",
       "      <th>Description</th>\n",
       "      <th>Rating</th>\n",
       "      <th>Link</th>\n",
       "      <th>Genre</th>\n",
       "    </tr>\n",
       "  </thead>\n",
       "  <tbody>\n",
       "    <tr>\n",
       "      <td>0</td>\n",
       "      <td>A Light in the Attic</td>\n",
       "      <td>Â£51.77</td>\n",
       "      <td>It's hard to imagine a world without A Light i...</td>\n",
       "      <td>Three</td>\n",
       "      <td>a-light-in-the-attic_1000/index.html</td>\n",
       "      <td>Poetry</td>\n",
       "    </tr>\n",
       "    <tr>\n",
       "      <td>1</td>\n",
       "      <td>Tipping the Velvet</td>\n",
       "      <td>Â£53.74</td>\n",
       "      <td>\"Erotic and absorbing...Written with starling ...</td>\n",
       "      <td>One</td>\n",
       "      <td>tipping-the-velvet_999/index.html</td>\n",
       "      <td>Historical Fiction</td>\n",
       "    </tr>\n",
       "    <tr>\n",
       "      <td>2</td>\n",
       "      <td>Soumission</td>\n",
       "      <td>Â£50.10</td>\n",
       "      <td>Dans une France assez proche de la nÃ´tre, un ...</td>\n",
       "      <td>One</td>\n",
       "      <td>soumission_998/index.html</td>\n",
       "      <td>Fiction</td>\n",
       "    </tr>\n",
       "    <tr>\n",
       "      <td>3</td>\n",
       "      <td>Sharp Objects</td>\n",
       "      <td>Â£47.82</td>\n",
       "      <td>WICKED above her hipbone, GIRL across her hear...</td>\n",
       "      <td>Four</td>\n",
       "      <td>sharp-objects_997/index.html</td>\n",
       "      <td>Mystery</td>\n",
       "    </tr>\n",
       "    <tr>\n",
       "      <td>4</td>\n",
       "      <td>Sapiens: A Brief History of Humankind</td>\n",
       "      <td>Â£54.23</td>\n",
       "      <td>From a renowned historian comes a groundbreaki...</td>\n",
       "      <td>Five</td>\n",
       "      <td>sapiens-a-brief-history-of-humankind_996/index...</td>\n",
       "      <td>History</td>\n",
       "    </tr>\n",
       "  </tbody>\n",
       "</table>\n",
       "</div>"
      ],
      "text/plain": [
       "                                   Title    Price  \\\n",
       "0                   A Light in the Attic  Â£51.77   \n",
       "1                     Tipping the Velvet  Â£53.74   \n",
       "2                             Soumission  Â£50.10   \n",
       "3                          Sharp Objects  Â£47.82   \n",
       "4  Sapiens: A Brief History of Humankind  Â£54.23   \n",
       "\n",
       "                                         Description Rating  \\\n",
       "0  It's hard to imagine a world without A Light i...  Three   \n",
       "1  \"Erotic and absorbing...Written with starling ...    One   \n",
       "2  Dans une France assez proche de la nÃ´tre, un ...    One   \n",
       "3  WICKED above her hipbone, GIRL across her hear...   Four   \n",
       "4  From a renowned historian comes a groundbreaki...   Five   \n",
       "\n",
       "                                                Link               Genre  \n",
       "0               a-light-in-the-attic_1000/index.html              Poetry  \n",
       "1                  tipping-the-velvet_999/index.html  Historical Fiction  \n",
       "2                          soumission_998/index.html             Fiction  \n",
       "3                       sharp-objects_997/index.html             Mystery  \n",
       "4  sapiens-a-brief-history-of-humankind_996/index...             History  "
      ]
     },
     "execution_count": 12,
     "metadata": {},
     "output_type": "execute_result"
    }
   ],
   "source": [
    "#show the top of your dataframe to confirm everything came through correctly\n",
    "\n",
    "my_df.head()"
   ]
  },
  {
   "cell_type": "code",
   "execution_count": 13,
   "metadata": {},
   "outputs": [],
   "source": [
    "#save your dataframe as a .csv\n",
    "\n",
    "my_df.to_csv('scraped_books.csv')"
   ]
  }
 ],
 "metadata": {
  "kernelspec": {
   "display_name": "Python 3 (ipykernel)",
   "language": "python",
   "name": "python3"
  },
  "language_info": {
   "codemirror_mode": {
    "name": "ipython",
    "version": 3
   },
   "file_extension": ".py",
   "mimetype": "text/x-python",
   "name": "python",
   "nbconvert_exporter": "python",
   "pygments_lexer": "ipython3",
   "version": "3.9.10"
  }
 },
 "nbformat": 4,
 "nbformat_minor": 2
}
