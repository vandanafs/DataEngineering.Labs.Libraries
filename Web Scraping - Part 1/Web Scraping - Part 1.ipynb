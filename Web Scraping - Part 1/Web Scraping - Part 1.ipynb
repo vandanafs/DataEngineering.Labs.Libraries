{
 "cells": [
  {
   "cell_type": "markdown",
   "metadata": {},
   "source": [
    "## Intro To Webscraping\n",
    "\n",
    "We're going to learn how to scrape data from a website. It is quite common that you might want to scrape a bunch of data from a website in order to analyse it. For example:\n",
    "\n",
    " - Scrape a bunch of comments/social media posts to analyze sentiment\n",
    " - Scrape a bunch of data saved as .csv files somewhere\n",
    " - Pull public records that don't have a native download option on the webpage\n",
    " - etc, etc\n",
    " \n",
    "Webscraping is SUPER powerful, because it enables you to create datasets out of almost anything you can find online. We'll walk through a toy example here, and then you can feel free to identify the website of your choice and scrape away!\n",
    "\n",
    "We'll need some tools before we get started:\n",
    "\n",
    "I should point out, there are multiple frameworks to use for webscraping: beautifulsoup/selenium+chromedriver/requests/urlib are all fairly common and are used for different applications. Each scraping task will require slightly different capabilities, and require choosing the correct tooling. We'll focus on the first two here.\n",
    "\n",
    "- First, make sure you have Chrome. You should already, as it's the best browser on the planet :)\n",
    "\n",
    "- Second, download and run the appropriate: <a href=\"https://chromedriver.chromium.org/downloads\">ChromeDriver</a>\n",
    "\n",
    "- Third, make sure you have both selenium and beautifulsoup4\n",
    "\n",
    "\n",
    "## -----------DISCLAIMER!!!-------------WARNING!!!--------------\n",
    "\n",
    "Many websites prohibit webscraping. This is not to say people don't do it all the time anyways, but we'll need to play by the rules here. If you search online, there are many awesome uses/examples/tutorials on webscraping. One common excercise is to scrape Indeed or LinkedIn for job postings in a given city, to figure out the most in demand skills. The problem is, many of the job boards prohibit scraping. So, just for liabilities sake, we're going to do a toy example here. <a href=\"http://toscrape.com\">Toscrape.com</a> is a free website that was specifically set up for scraping, so we can play around with it without worrying about a specific site's Terms of Service changing on us."
   ]
  },
  {
   "cell_type": "code",
   "execution_count": 6,
   "metadata": {},
   "outputs": [
    {
     "name": "stdout",
     "output_type": "stream",
     "text": [
      "\u001b[33mDEPRECATION: Configuring installation scheme with distutils config files is deprecated and will no longer work in the near future. If you are using a Homebrew or Linuxbrew Python, please see discussion at https://github.com/Homebrew/homebrew-core/issues/76621\u001b[0m\u001b[33m\n",
      "\u001b[0mRequirement already satisfied: selenium in /usr/local/lib/python3.9/site-packages (4.1.3)\n",
      "Requirement already satisfied: trio-websocket~=0.9 in /usr/local/lib/python3.9/site-packages (from selenium) (0.9.2)\n",
      "Requirement already satisfied: urllib3[secure,socks]~=1.26 in /usr/local/lib/python3.9/site-packages (from selenium) (1.26.9)\n",
      "Requirement already satisfied: trio~=0.17 in /usr/local/lib/python3.9/site-packages (from selenium) (0.20.0)\n",
      "Requirement already satisfied: idna in /usr/local/lib/python3.9/site-packages (from trio~=0.17->selenium) (3.3)\n",
      "Requirement already satisfied: outcome in /usr/local/lib/python3.9/site-packages (from trio~=0.17->selenium) (1.1.0)\n",
      "Requirement already satisfied: async-generator>=1.9 in /usr/local/lib/python3.9/site-packages (from trio~=0.17->selenium) (1.10)\n",
      "Requirement already satisfied: sniffio in /usr/local/lib/python3.9/site-packages (from trio~=0.17->selenium) (1.2.0)\n",
      "Requirement already satisfied: attrs>=19.2.0 in /usr/local/lib/python3.9/site-packages (from trio~=0.17->selenium) (21.4.0)\n",
      "Requirement already satisfied: sortedcontainers in /usr/local/lib/python3.9/site-packages (from trio~=0.17->selenium) (2.4.0)\n",
      "Requirement already satisfied: wsproto>=0.14 in /usr/local/lib/python3.9/site-packages (from trio-websocket~=0.9->selenium) (1.1.0)\n",
      "Requirement already satisfied: pyOpenSSL>=0.14 in /usr/local/lib/python3.9/site-packages (from urllib3[secure,socks]~=1.26->selenium) (22.0.0)\n",
      "Requirement already satisfied: cryptography>=1.3.4 in /usr/local/lib/python3.9/site-packages (from urllib3[secure,socks]~=1.26->selenium) (36.0.2)\n",
      "Requirement already satisfied: certifi in /usr/local/lib/python3.9/site-packages (from urllib3[secure,socks]~=1.26->selenium) (2021.10.8)\n",
      "Requirement already satisfied: PySocks!=1.5.7,<2.0,>=1.5.6 in /usr/local/lib/python3.9/site-packages (from urllib3[secure,socks]~=1.26->selenium) (1.7.1)\n",
      "Requirement already satisfied: cffi>=1.12 in /usr/local/lib/python3.9/site-packages (from cryptography>=1.3.4->urllib3[secure,socks]~=1.26->selenium) (1.15.0)\n",
      "Requirement already satisfied: h11<1,>=0.9.0 in /usr/local/lib/python3.9/site-packages (from wsproto>=0.14->trio-websocket~=0.9->selenium) (0.13.0)\n",
      "Requirement already satisfied: pycparser in /usr/local/lib/python3.9/site-packages (from cffi>=1.12->cryptography>=1.3.4->urllib3[secure,socks]~=1.26->selenium) (2.21)\n",
      "\u001b[33mDEPRECATION: Configuring installation scheme with distutils config files is deprecated and will no longer work in the near future. If you are using a Homebrew or Linuxbrew Python, please see discussion at https://github.com/Homebrew/homebrew-core/issues/76621\u001b[0m\u001b[33m\n",
      "\u001b[0m"
     ]
    }
   ],
   "source": [
    "!pip3 install selenium"
   ]
  },
  {
   "cell_type": "code",
   "execution_count": 8,
   "metadata": {},
   "outputs": [],
   "source": [
    "#import selenium and beautifulsoup\n",
    "\n",
    "import selenium\n",
    "from selenium import webdriver\n",
    "\n",
    "import bs4\n",
    "from bs4 import BeautifulSoup"
   ]
  },
  {
   "cell_type": "code",
   "execution_count": null,
   "metadata": {},
   "outputs": [],
   "source": []
  },
  {
   "cell_type": "code",
   "execution_count": 13,
   "metadata": {},
   "outputs": [],
   "source": [
    "#point selenium to your download of the chromedriver and instantiate a driver\n",
    "\n",
    "#driver = webdriver.Chrome('/Users/mschuchardt/bin/chromedriver')"
   ]
  },
  {
   "cell_type": "code",
   "execution_count": 34,
   "metadata": {},
   "outputs": [
    {
     "name": "stderr",
     "output_type": "stream",
     "text": [
      "/var/folders/3c/hxpmknwd5cg9lwydrkf402qw0000gp/T/ipykernel_2762/1375385635.py:1: DeprecationWarning: executable_path has been deprecated, please pass in a Service object\n",
      "  driver=webdriver.Chrome(\"/Users/vandana/Downloads/chromedriver\")\n"
     ]
    }
   ],
   "source": [
    "driver=webdriver.Chrome(\"/Users/vandana/Downloads/chromedriver\")"
   ]
  },
  {
   "cell_type": "code",
   "execution_count": 35,
   "metadata": {},
   "outputs": [],
   "source": [
    "#test it out and see if it's working\n",
    "\n",
    "driver.get('http://books.toscrape.com/')"
   ]
  },
  {
   "cell_type": "markdown",
   "metadata": {},
   "source": [
    "## Ok - let's get to scraping. Let's build a dataset that has the following for each book:\n",
    "\n",
    "- Title\n",
    "- Price\n",
    "- Description\n",
    "- Rating\n",
    "- Genre\n",
    "\n",
    "We'll use the same general process for each of the above. Web scraping can involve a bit of trial and error. Essentially you're just trying to figure out:\n",
    "- Where does the element you're looking for live in the html?\n",
    "- What is it's tag or XPath?\n",
    "- What is the page structure? I.e, once you've found the tag you want, how can you loop through the whole page to find ALL of the thing you're interested in (like all the titles).\n",
    "\n",
    "## I'll give an example below, then you can replicate it for each additional element you need.\n",
    "\n",
    " - right click one of the titles on the page and click 'inspect'\n",
    " - look at the section of html that pops up and right click that section of html and hover over 'copy'\n",
    " - click 'copy XPath'"
   ]
  },
  {
   "cell_type": "code",
   "execution_count": 36,
   "metadata": {},
   "outputs": [
    {
     "name": "stderr",
     "output_type": "stream",
     "text": [
      "/var/folders/3c/hxpmknwd5cg9lwydrkf402qw0000gp/T/ipykernel_2762/3703061981.py:3: DeprecationWarning: find_elements_by_xpath is deprecated. Please use find_elements(by=By.XPATH, value=xpath) instead\n",
      "  title_element = driver.find_elements_by_xpath('//*[@id=\"default\"]/div/\\\n"
     ]
    }
   ],
   "source": [
    "#we'll use the find_elements_by_xpath function on the XPath we copied to see what we get:\n",
    "\n",
    "title_element = driver.find_elements_by_xpath('//*[@id=\"default\"]/div/\\\n",
    "                                              div/div/div/section/div[2]/ol/li[1]/article/h3/a')[0]"
   ]
  },
  {
   "cell_type": "code",
   "execution_count": 37,
   "metadata": {},
   "outputs": [
    {
     "data": {
      "text/plain": [
       "'A Light in the ...'"
      ]
     },
     "execution_count": 37,
     "metadata": {},
     "output_type": "execute_result"
    }
   ],
   "source": [
    "#using '.text' on this element will show us the text displayed on the page\n",
    "\n",
    "title = title_element.text\n",
    "title"
   ]
  },
  {
   "cell_type": "code",
   "execution_count": 38,
   "metadata": {},
   "outputs": [
    {
     "data": {
      "text/plain": [
       "'A Light in the Attic'"
      ]
     },
     "execution_count": 38,
     "metadata": {},
     "output_type": "execute_result"
    }
   ],
   "source": [
    "#that seems truncated - let's look back at the html and see if there's a tag that holds the whole title\n",
    "#get_attribute will help here\n",
    "\n",
    "title = title_element.get_attribute('title')\n",
    "title\n",
    "\n",
    "#there we go!"
   ]
  },
  {
   "cell_type": "markdown",
   "metadata": {},
   "source": [
    "## Ok - now we've found where each title is stored within the html of the page!\n",
    "\n",
    "Now we need to repeat this process for every book."
   ]
  },
  {
   "cell_type": "code",
   "execution_count": 39,
   "metadata": {},
   "outputs": [
    {
     "name": "stderr",
     "output_type": "stream",
     "text": [
      "/var/folders/3c/hxpmknwd5cg9lwydrkf402qw0000gp/T/ipykernel_2762/2054242251.py:7: DeprecationWarning: find_elements_by_xpath is deprecated. Please use find_elements(by=By.XPATH, value=xpath) instead\n",
      "  title_element = driver.find_elements_by_xpath('//*[@id=\"default\"]/div/div/div/div/section/\\\n"
     ]
    },
    {
     "name": "stdout",
     "output_type": "stream",
     "text": [
      "Magic! I've scraped 20 titles!\n"
     ]
    }
   ],
   "source": [
    "# lets write a loop that pulls every title for the page and saves it in a list\n",
    "\n",
    "title_list = []\n",
    "\n",
    "for i in range(1,21): #this range represents the number of books per page\n",
    "\n",
    "    title_element = driver.find_elements_by_xpath('//*[@id=\"default\"]/div/div/div/div/section/\\\n",
    "                                                    div[2]/ol/li[{}]/article/h3/a'.format(i))[0] #notice the .format()\n",
    "    title_list.append(title_element.get_attribute('title'))\n",
    "    \n",
    "print('Magic! I\\'ve scraped {} titles!'.format(len(title_list)))"
   ]
  },
  {
   "cell_type": "code",
   "execution_count": 40,
   "metadata": {},
   "outputs": [
    {
     "name": "stderr",
     "output_type": "stream",
     "text": [
      "/var/folders/3c/hxpmknwd5cg9lwydrkf402qw0000gp/T/ipykernel_2762/808688282.py:11: DeprecationWarning: find_elements_by_xpath is deprecated. Please use find_elements(by=By.XPATH, value=xpath) instead\n",
      "  title_element = driver.find_elements_by_xpath('//*[@id=\"default\"]/div/div/div/div/section/\\\n"
     ]
    },
    {
     "name": "stdout",
     "output_type": "stream",
     "text": [
      "Magic! I've scraped 1000 titles!\n"
     ]
    }
   ],
   "source": [
    "#the loop above only scraped the first page. let's nest another loop to scrape every page\n",
    "\n",
    "title_list = []\n",
    "\n",
    "for i in range(1,51):\n",
    "\n",
    "    driver.get('http://books.toscrape.com/catalogue/page-{}.html'.format(i))\n",
    "\n",
    "    for x in range(1,21): #this range represents the number of books per page\n",
    "\n",
    "        title_element = driver.find_elements_by_xpath('//*[@id=\"default\"]/div/div/div/div/section/\\\n",
    "                                                        div[2]/ol/li[{}]/article/h3/a'.format(x))[0]\n",
    "        title_list.append(title_element.get_attribute('title'))\n",
    "        \n",
    "#quit your session so you don't have any ghost browsing sessions running :)\n",
    "\n",
    "driver.quit()\n",
    "\n",
    "print('Magic! I\\'ve scraped {} titles!'.format(len(title_list)))"
   ]
  },
  {
   "cell_type": "markdown",
   "metadata": {},
   "source": [
    "The way we've done it above actually launches a Chrome GUI browser. This is computationally expensive, and therefore, bad practice. It's cool, because you can follow along and literally see the scraping happening. That said, in practice you'll likely want to do this in what's called a 'headless' manner. Go online and read up on how to run selenium without launching a GUI browser."
   ]
  },
  {
   "cell_type": "code",
   "execution_count": 41,
   "metadata": {},
   "outputs": [
    {
     "name": "stderr",
     "output_type": "stream",
     "text": [
      "/var/folders/3c/hxpmknwd5cg9lwydrkf402qw0000gp/T/ipykernel_2762/2802593874.py:8: DeprecationWarning: executable_path has been deprecated, please pass in a Service object\n",
      "  driver = webdriver.Chrome(\"/Users/vandana/Downloads/chromedriver\", options=options)\n",
      "/var/folders/3c/hxpmknwd5cg9lwydrkf402qw0000gp/T/ipykernel_2762/2802593874.py:18: DeprecationWarning: find_elements_by_xpath is deprecated. Please use find_elements(by=By.XPATH, value=xpath) instead\n",
      "  title_element = driver.find_elements_by_xpath('//*[@id=\"default\"]/div/div/div/div/section/\\\n"
     ]
    },
    {
     "name": "stdout",
     "output_type": "stream",
     "text": [
      "Magic! I've scraped 1000 titles!\n"
     ]
    }
   ],
   "source": [
    "#set the options for the driver such that Chrome doesn't actually launch a GUI\n",
    "\n",
    "from selenium.webdriver.chrome.options import Options\n",
    "\n",
    "options = Options()\n",
    "options.headless = True\n",
    "#driver = webdriver.Chrome('/Users/mschuchardt/bin/chromedriver', options=options)\n",
    "driver = webdriver.Chrome(\"/Users/vandana/Downloads/chromedriver\", options=options)\n",
    "\n",
    "title_list = []\n",
    "\n",
    "for i in range(1,51):\n",
    "\n",
    "    driver.get('http://books.toscrape.com/catalogue/page-{}.html'.format(i))\n",
    "\n",
    "    for x in range(1,21): #this range represents the number of books per page\n",
    "\n",
    "        title_element = driver.find_elements_by_xpath('//*[@id=\"default\"]/div/div/div/div/section/\\\n",
    "                                                        div[2]/ol/li[{}]/article/h3/a'.format(x))[0]\n",
    "        title_list.append(title_element.get_attribute('title'))\n",
    "        \n",
    "#quit your session so you don't have any ghost browsing sessions running :)\n",
    "\n",
    "driver.quit()\n",
    "\n",
    "print('Magic! I\\'ve scraped {} titles!'.format(len(title_list)))"
   ]
  },
  {
   "cell_type": "markdown",
   "metadata": {},
   "source": [
    "## There we go! We've scraped all 1000 titles. Let's step back for a moment now.\n",
    "\n",
    "Above we did a quick and dirty scrape of every title on the website. We kept it super high level, and never navigated to any individual books's page. In order to pull more data for each book, let's dive in deeper.\n",
    "\n",
    "In this next section we'll first try to figure out if there's a pattern we can follow for each page's link. Then we'll loop through every page and scrape as much as we can from it.\n",
    "\n",
    "The selenium/ChromeDriver toolset is really cool, and helps visually illustrate what a webscraper is doing. In the next lab, we'll use beautifulsoup to get into the weeds."
   ]
  }
 ],
 "metadata": {
  "kernelspec": {
   "display_name": "Python 3 (ipykernel)",
   "language": "python",
   "name": "python3"
  },
  "language_info": {
   "codemirror_mode": {
    "name": "ipython",
    "version": 3
   },
   "file_extension": ".py",
   "mimetype": "text/x-python",
   "name": "python",
   "nbconvert_exporter": "python",
   "pygments_lexer": "ipython3",
   "version": "3.9.12"
  }
 },
 "nbformat": 4,
 "nbformat_minor": 2
}
