{
 "cells": [
  {
   "cell_type": "markdown",
   "metadata": {},
   "source": [
    "## Getting Data From the Interwebs\n",
    "\n",
    "In many cases the data you'll be working with as a data engineer will be company data that is accessible vias internal systems. In other cases though, you'll have to venture out into the wild to find your own data. We did this in a small way during the web scraping labs. In this lab though, we'll talk about how to get data from more structured sources.\n",
    "\n",
    "Public APIs are a great way of pulling data directly from other websites and data sources. Once you figure out how to handle the output of an API, you can build datasets out of almost anything!\n",
    "\n",
    "A few examples of the possibilities:\n",
    "- Connect to the FRED (Federal Reserve Economic Data) API and pull economic indicators for time series analysis\n",
    "- Connect to the Twitter API and pull tweets on a certain topic (like your company/product/etc) to analyze public sentiment\n",
    "- Connect to the SkyScanner API to analyze flight prices\n",
    "- Connect to Data.gov and build a student loan data set\n",
    "\n",
    "Public data is a really cool way to build a portfolio of projects that people can relate to. Company specific analysis will be your bread and butter in any job, but public data projects can be a great way of sharing your skills with the world. Todd Schneider's [taxi data analysis](https://toddwschneider.com/posts/analyzing-1-1-billion-nyc-taxi-and-uber-trips-with-a-vengeance/) is a perfect example of this. Give that piece a read before getting started."
   ]
  },
  {
   "cell_type": "code",
   "execution_count": null,
   "metadata": {},
   "outputs": [],
   "source": [
    "#import pandas, requests, json, and seaborn\n",
    "\n",
    "import pandas as pd\n",
    "import requests\n",
    "import json\n",
    "import seaborn as sns\n",
    "import matplotlib.pyplot as plt\n",
    "%matplotlib inline"
   ]
  },
  {
   "cell_type": "markdown",
   "metadata": {},
   "source": [
    "## For our first API - let's use [FRED](https://research.stlouisfed.org/docs/api/fred/index.html). \n",
    "This is a common data source used in financial and economic analysis. Take a spin through their documentation, specifically the [observations](https://research.stlouisfed.org/docs/api/fred/series_observations.html) section before moving on.\n",
    "\n",
    "The first thing you'll need to do is register for an account and request an API key. You can do this [here](https://research.stlouisfed.org/docs/api/api_key.html) in about 1 minute.\n",
    "\n",
    "Second - we'll need to pick a data series to pull. For starters let's pull unemployement data for Delaware. Find this on the FRED website and take note of the unique ID for the series. We'll need to specify it in our API call.\n"
   ]
  },
  {
   "cell_type": "code",
   "execution_count": 16,
   "metadata": {},
   "outputs": [],
   "source": [
    "#save your API key as a variable called 'mykey'\n",
    "\n",
    "mykey = '5ffe1b83bb27dae2eb5ec54bd6add76a'"
   ]
  },
  {
   "cell_type": "code",
   "execution_count": 17,
   "metadata": {},
   "outputs": [],
   "source": [
    "#save the series_id as a variable called 'unemployment_id'\n",
    "\n",
    "unemployment_id = 'DEUR'"
   ]
  },
  {
   "cell_type": "markdown",
   "metadata": {},
   "source": [
    "Calling an API shares some similarities with web scraping in that, the basics are really the same. You're simply making a web call and recording the call's response. \n",
    "\n",
    "Take a look at FRED's example call below:\n",
    "\n",
    "https://api.stlouisfed.org/fred/series/observations?series_id=GNPCA&api_key=abcdefghijklmnopqrstuvwxyz123456&file_type=json"
   ]
  },
  {
   "cell_type": "code",
   "execution_count": 18,
   "metadata": {},
   "outputs": [],
   "source": [
    "#create a base url to call (this should end at '/observations?')\n",
    "\n",
    "base = 'https://api.stlouisfed.org/fred/series/observations?'"
   ]
  },
  {
   "cell_type": "code",
   "execution_count": 10,
   "metadata": {},
   "outputs": [
    {
     "ename": "NameError",
     "evalue": "name 'unemployment_id' is not defined",
     "output_type": "error",
     "traceback": [
      "\u001b[0;31m---------------------------------------------------------------------------\u001b[0m",
      "\u001b[0;31mNameError\u001b[0m                                 Traceback (most recent call last)",
      "Input \u001b[0;32mIn [10]\u001b[0m, in \u001b[0;36m<cell line: 3>\u001b[0;34m()\u001b[0m\n\u001b[1;32m      1\u001b[0m \u001b[38;5;66;03m#reconstruct the example URL, using your API key and series_id\u001b[39;00m\n\u001b[0;32m----> 3\u001b[0m unemp_url \u001b[38;5;241m=\u001b[39m base \u001b[38;5;241m+\u001b[39m \u001b[38;5;124m'\u001b[39m\u001b[38;5;124mseries_id=\u001b[39m\u001b[38;5;124m'\u001b[39m \u001b[38;5;241m+\u001b[39m \u001b[43munemployment_id\u001b[49m\\\n\u001b[1;32m      4\u001b[0m \u001b[38;5;241m+\u001b[39m \u001b[38;5;124m'\u001b[39m\u001b[38;5;124m&\u001b[39m\u001b[38;5;124m'\u001b[39m \u001b[38;5;241m+\u001b[39m \u001b[38;5;124m'\u001b[39m\u001b[38;5;124mapi_key=\u001b[39m\u001b[38;5;124m'\u001b[39m \u001b[38;5;241m+\u001b[39m mykey \u001b[38;5;241m+\u001b[39m \u001b[38;5;124m'\u001b[39m\u001b[38;5;124m&\u001b[39m\u001b[38;5;124m'\u001b[39m \u001b[38;5;241m+\u001b[39m \u001b[38;5;124m'\u001b[39m\u001b[38;5;124mfile_type=json\u001b[39m\u001b[38;5;124m'\u001b[39m\n",
      "\u001b[0;31mNameError\u001b[0m: name 'unemployment_id' is not defined"
     ]
    }
   ],
   "source": [
    "#reconstruct the example URL, using your API key and series_id\n",
    "\n",
    "unemp_url = base + 'series_id=' + unemployment_id\\\n",
    "+ '&' + 'api_key=' + mykey + '&' + 'file_type=json'"
   ]
  },
  {
   "cell_type": "code",
   "execution_count": 11,
   "metadata": {},
   "outputs": [
    {
     "ename": "NameError",
     "evalue": "name 'unemp_url' is not defined",
     "output_type": "error",
     "traceback": [
      "\u001b[0;31m---------------------------------------------------------------------------\u001b[0m",
      "\u001b[0;31mNameError\u001b[0m                                 Traceback (most recent call last)",
      "Input \u001b[0;32mIn [11]\u001b[0m, in \u001b[0;36m<cell line: 3>\u001b[0;34m()\u001b[0m\n\u001b[1;32m      1\u001b[0m \u001b[38;5;66;03m#show the URL you created to confirm it is formatted as you'd expect\u001b[39;00m\n\u001b[0;32m----> 3\u001b[0m \u001b[43munemp_url\u001b[49m\n",
      "\u001b[0;31mNameError\u001b[0m: name 'unemp_url' is not defined"
     ]
    }
   ],
   "source": [
    "#show the URL you created to confirm it is formatted as you'd expect\n",
    "\n",
    "unemp_url"
   ]
  },
  {
   "cell_type": "code",
   "execution_count": null,
   "metadata": {},
   "outputs": [],
   "source": [
    "#use requests.get() to call the URL you constructed\n",
    "\n",
    "response = requests.get(unemp_url)"
   ]
  },
  {
   "cell_type": "code",
   "execution_count": null,
   "metadata": {},
   "outputs": [],
   "source": [
    "#check the status code of the response to confirm your call succeeded\n",
    "\n",
    "response.status_code"
   ]
  },
  {
   "cell_type": "markdown",
   "metadata": {},
   "source": [
    "## Bonus:\n",
    "\n",
    "What is the status_code for a successful web call?"
   ]
  },
  {
   "cell_type": "code",
   "execution_count": null,
   "metadata": {},
   "outputs": [],
   "source": [
    "#read the response and see what it looks like\n",
    "\n",
    "response.content"
   ]
  },
  {
   "cell_type": "code",
   "execution_count": null,
   "metadata": {},
   "outputs": [],
   "source": [
    "#save the content of the response\n",
    "\n",
    "content  = response.content"
   ]
  },
  {
   "cell_type": "markdown",
   "metadata": {},
   "source": [
    "We specified the file_type as json because it nice and easy to read this way. Using the json library, figure out how to load the response as a dictionary. "
   ]
  },
  {
   "cell_type": "code",
   "execution_count": null,
   "metadata": {},
   "outputs": [],
   "source": [
    "#load the content of the response as a dict\n",
    "\n",
    "response_dict = json.loads(content)"
   ]
  },
  {
   "cell_type": "code",
   "execution_count": 15,
   "metadata": {},
   "outputs": [
    {
     "ename": "NameError",
     "evalue": "name 'pd' is not defined",
     "output_type": "error",
     "traceback": [
      "\u001b[0;31m---------------------------------------------------------------------------\u001b[0m",
      "\u001b[0;31mNameError\u001b[0m                                 Traceback (most recent call last)",
      "Input \u001b[0;32mIn [15]\u001b[0m, in \u001b[0;36m<cell line: 3>\u001b[0;34m()\u001b[0m\n\u001b[1;32m      1\u001b[0m \u001b[38;5;66;03m#load the observations from the dict into a DataFrame\u001b[39;00m\n\u001b[0;32m----> 3\u001b[0m unemp_df \u001b[38;5;241m=\u001b[39m \u001b[43mpd\u001b[49m\u001b[38;5;241m.\u001b[39mDataFrame(response_dict[\u001b[38;5;124m'\u001b[39m\u001b[38;5;124mobservations\u001b[39m\u001b[38;5;124m'\u001b[39m])\n",
      "\u001b[0;31mNameError\u001b[0m: name 'pd' is not defined"
     ]
    }
   ],
   "source": [
    "#load the observations from the dict into a DataFrame\n",
    "\n",
    "unemp_df = pd.DataFrame(response_dict['observations'])"
   ]
  },
  {
   "cell_type": "code",
   "execution_count": 13,
   "metadata": {},
   "outputs": [
    {
     "ename": "NameError",
     "evalue": "name 'unemp_df' is not defined",
     "output_type": "error",
     "traceback": [
      "\u001b[0;31m---------------------------------------------------------------------------\u001b[0m",
      "\u001b[0;31mNameError\u001b[0m                                 Traceback (most recent call last)",
      "Input \u001b[0;32mIn [13]\u001b[0m, in \u001b[0;36m<cell line: 3>\u001b[0;34m()\u001b[0m\n\u001b[1;32m      1\u001b[0m \u001b[38;5;66;03m#show the df\u001b[39;00m\n\u001b[0;32m----> 3\u001b[0m \u001b[43munemp_df\u001b[49m\n",
      "\u001b[0;31mNameError\u001b[0m: name 'unemp_df' is not defined"
     ]
    }
   ],
   "source": [
    "#show the df\n",
    "\n",
    "unemp_df"
   ]
  },
  {
   "cell_type": "markdown",
   "metadata": {},
   "source": [
    "Now let's wrap all steps above into a reusable function, and use it to pull in another data series.\n",
    "\n",
    "Your function should have one input and should:\n",
    "- Call the API\n",
    "- Check if the response succeded\n",
    "    - Print if it fails\n",
    "- Read the content as JSON\n",
    "- Load the JSON into a dict\n",
    "- Return a DataFrame from the dict"
   ]
  },
  {
   "cell_type": "code",
   "execution_count": null,
   "metadata": {},
   "outputs": [],
   "source": [
    "#create your function here\n",
    "\n",
    "def get_data(url):\n",
    "    response = requests.get(url)\n",
    "    if response.status_code == 200:\n",
    "        content  = response.content\n",
    "        response_dict = json.loads(content)\n",
    "        data = pd.DataFrame(response_dict['observations'])\n",
    "    else:\n",
    "        print('Sorry - this call failed. Please check your URL.')\n",
    "        \n",
    "    return data"
   ]
  },
  {
   "cell_type": "markdown",
   "metadata": {},
   "source": [
    "Now let's pull another data set. Go find the series_id for Labor Force Participation rate in DE.\n",
    "\n",
    "Then:\n",
    "- Create a fresh URL to hit\n",
    "- Pass that URL to your new function\n",
    "- Inspect the results"
   ]
  },
  {
   "cell_type": "code",
   "execution_count": null,
   "metadata": {},
   "outputs": [],
   "source": [
    "#save the series id as labor_id\n",
    "\n",
    "labor_id = 'LBSSA10'"
   ]
  },
  {
   "cell_type": "code",
   "execution_count": null,
   "metadata": {},
   "outputs": [],
   "source": [
    "#create a new URL to hit that incorporates the new series_id\n",
    "\n",
    "participation_url = base + 'series_id=' + labor_id\\\n",
    "+ '&' + 'api_key=' + mykey + '&' + 'file_type=json'"
   ]
  },
  {
   "cell_type": "code",
   "execution_count": null,
   "metadata": {},
   "outputs": [],
   "source": [
    "#create a df by passing the URL to the function you created \n",
    "\n",
    "particip_data = get_data(participation_url)"
   ]
  },
  {
   "cell_type": "code",
   "execution_count": null,
   "metadata": {},
   "outputs": [],
   "source": [
    "#show the df\n",
    "\n",
    "particip_data"
   ]
  },
  {
   "cell_type": "markdown",
   "metadata": {},
   "source": [
    "## Now that we've done this the long way . . .\n",
    "\n",
    "We did the above to illustrate how getting data from APIs often goes. You'll usually need:\n",
    "- To get an API key\n",
    "- Read the API documentation a bit to understand how to call it\n",
    "- Test it a few times and read the responses manually to get comfortable with it\n",
    "- If you're going to pull lots of data, make sure to take a peek at the site's robots.txt file (these files are always found in the base directory: https://fred.stlouisfed.org/robots.txt).\n",
    "\n",
    "\n",
    "Now that we've done this manually, it's worth mentioning that many popular APIs have pre-built wrappers that make accessing the API super easy. These wrappers allow you to abstract with much of the boilerplate code we wrote above (constructing the URL, checking the response, reading the content, loading it, etc).\n",
    "\n",
    "For FRED, a very common one is **fredapi**, which can be installed via pip. \n",
    "\n",
    "Go install it before continuing."
   ]
  },
  {
   "cell_type": "code",
   "execution_count": null,
   "metadata": {},
   "outputs": [],
   "source": [
    "#from fredapi import Fred\n",
    "\n",
    "from fredapi import Fred"
   ]
  },
  {
   "cell_type": "code",
   "execution_count": null,
   "metadata": {},
   "outputs": [],
   "source": [
    "#set your api_key\n",
    "\n",
    "fred = Fred(api_key=mykey)"
   ]
  },
  {
   "cell_type": "code",
   "execution_count": null,
   "metadata": {},
   "outputs": [],
   "source": [
    "#pull DE unemployment the easy way\n",
    "\n",
    "easy_response = fred.get_series('DEUR')"
   ]
  },
  {
   "cell_type": "code",
   "execution_count": null,
   "metadata": {},
   "outputs": [],
   "source": [
    "#show the response\n",
    "\n",
    "easy_response"
   ]
  },
  {
   "cell_type": "markdown",
   "metadata": {},
   "source": [
    "See? Magic 😂"
   ]
  }
 ],
 "metadata": {
  "kernelspec": {
   "display_name": "Python 3 (ipykernel)",
   "language": "python",
   "name": "python3"
  },
  "language_info": {
   "codemirror_mode": {
    "name": "ipython",
    "version": 3
   },
   "file_extension": ".py",
   "mimetype": "text/x-python",
   "name": "python",
   "nbconvert_exporter": "python",
   "pygments_lexer": "ipython3",
   "version": "3.9.10"
  }
 },
 "nbformat": 4,
 "nbformat_minor": 4
}
